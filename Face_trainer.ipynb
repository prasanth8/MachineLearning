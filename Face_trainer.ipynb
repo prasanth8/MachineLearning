{
 "cells": [
  {
   "cell_type": "code",
   "execution_count": 1,
   "metadata": {},
   "outputs": [],
   "source": [
    "import os\n",
    "import numpy as np\n",
    "from PIL import Image\n",
    "import cv2\n",
    "import pickle"
   ]
  },
  {
   "cell_type": "code",
   "execution_count": 2,
   "metadata": {},
   "outputs": [],
   "source": [
    "BASE_PATH = 'F:\\Prasanth\\Projects\\Data_Science\\Face_detection\\Photos'\n",
    "current_id=0\n",
    "x_train=[]\n",
    "y_lable=[]\n",
    "lable_ids={}\n",
    "face_casecade = cv2.CascadeClassifier('F:\\\\Prasanth\\\\Projects\\\\Data_Science\\\\Face_detection\\\\face_detection_modules\\\\haarcascades\\\\haarcascade_frontalface_default.xml')\n",
    "recognizar = cv2.face.LBPHFaceRecognizer_create()\n",
    "for root,dir,files in os.walk(BASE_PATH):\n",
    "    for file in files:\n",
    "        if file.endswith('png') or file.endswith('jpg'):\n",
    "            path = os.path.join(root,file)\n",
    "            lable = os.path.basename(root)\n",
    "            if not lable in lable_ids:\n",
    "                lable_ids[lable]=current_id\n",
    "                current_id +=1\n",
    "            id_=lable_ids[lable]\n",
    "            image = cv2.imread(path,1)\n",
    "            gray = cv2.cvtColor(image,cv2.COLOR_BGR2GRAY)\n",
    "            faces = face_casecade.detectMultiScale(gray,1.5,5)\n",
    "            for (x,y,w,h) in faces:\n",
    "                roi_color = gray[y:y+h,x:x+w]\n",
    "                x_train.append(roi_color)\n",
    "                y_lable.append(id_)     \n",
    "with open(\"lable.pickle\",'wb') as f:\n",
    "    pickle.dump(lable_ids,f)\n",
    "recognizar.train(x_train,np.array(y_lable))\n",
    "recognizar.save('trained.yml')"
   ]
  },
  {
   "cell_type": "code",
   "execution_count": 5,
   "metadata": {},
   "outputs": [
    {
     "name": "stdout",
     "output_type": "stream",
     "text": [
      "{'Arvind Swamy': 0, 'Jack': 1, 'Kamal hassan': 2, 'Prasanth': 3}\n",
      "[0, 0, 0, 0, 0, 1, 2, 2, 2, 2, 2, 2, 2, 3, 3]\n"
     ]
    }
   ],
   "source": [
    "print(lable_ids)\n",
    "print(y_lable)"
   ]
  }
 ],
 "metadata": {
  "kernelspec": {
   "display_name": "Python 3",
   "language": "python",
   "name": "python3"
  },
  "language_info": {
   "codemirror_mode": {
    "name": "ipython",
    "version": 3
   },
   "file_extension": ".py",
   "mimetype": "text/x-python",
   "name": "python",
   "nbconvert_exporter": "python",
   "pygments_lexer": "ipython3",
   "version": "3.7.5"
  }
 },
 "nbformat": 4,
 "nbformat_minor": 2
}

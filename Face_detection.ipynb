{
 "cells": [
  {
   "cell_type": "code",
   "execution_count": 18,
   "metadata": {},
   "outputs": [],
   "source": [
    "import cv2\n",
    "import numpy as np\n",
    "import os\n",
    "import seaborn as sb\n",
    "import matplotlib.pyplot as plt\n",
    "%matplotlib inline\n",
    "import pickle"
   ]
  },
  {
   "cell_type": "code",
   "execution_count": 97,
   "metadata": {},
   "outputs": [
    {
     "name": "stdout",
     "output_type": "stream",
     "text": [
      "Kamal hassan\n",
      "66.20256015535108\n"
     ]
    }
   ],
   "source": [
    "BASE_PATH = 'F:\\Prasanth\\download.jpg'\n",
    "face_casecade = cv2.CascadeClassifier('F:\\\\Prasanth\\\\Projects\\\\Data_Science\\\\Face_detection\\\\face_detection_modules\\\\haarcascades\\\\haarcascade_frontalface_default.xml')\n",
    "recognizer = cv2.face.LBPHFaceRecognizer_create()\n",
    "recognizer.read('trained.yml')\n",
    "lable = {}\n",
    "with open(\"lable.pickle\",'rb') as f:\n",
    "    lable_ids = pickle.load(f)\n",
    "    lable = {v:k for k,v in lable_ids.items()}\n",
    "image = cv2.imread(BASE_PATH,1)\n",
    "image = cv2.resize(image,(500,500),interpolation = cv2.INTER_AREA)\n",
    "gray = cv2.cvtColor(image,cv2.COLOR_BGR2GRAY)\n",
    "faces = face_casecade.detectMultiScale(gray)\n",
    "for (x,y,w,h) in faces:\n",
    "    roi_color = image[y:y+h,x:x+w]\n",
    "    roi_gray = gray[y:y+h,x:x+w]\n",
    "    id_,conf=recognizer.predict(roi_gray)\n",
    "    if conf>=60 and conf<=90:\n",
    "        #cv2.rectangle(image,(x,y),(x+w,y+h),(255,255,0),2)\n",
    "        image[y:y+h,x:x+w]=cv2.blur(roi_color,(100,100))\n",
    "        print(lable[id_])\n",
    "    #id_,conf = recognizer.predict()\n",
    "    print(conf)\n",
    "cv2.imshow('Image',image)\n",
    "k = cv2.waitKey(0)&0xFF\n",
    "if k==27:\n",
    "    cv2.destroyAllWindows()\n"
   ]
  },
  {
   "cell_type": "code",
   "execution_count": null,
   "metadata": {},
   "outputs": [],
   "source": []
  },
  {
   "cell_type": "code",
   "execution_count": null,
   "metadata": {},
   "outputs": [],
   "source": []
  }
 ],
 "metadata": {
  "kernelspec": {
   "display_name": "Python 3",
   "language": "python",
   "name": "python3"
  },
  "language_info": {
   "codemirror_mode": {
    "name": "ipython",
    "version": 3
   },
   "file_extension": ".py",
   "mimetype": "text/x-python",
   "name": "python",
   "nbconvert_exporter": "python",
   "pygments_lexer": "ipython3",
   "version": "3.7.5"
  }
 },
 "nbformat": 4,
 "nbformat_minor": 2
}

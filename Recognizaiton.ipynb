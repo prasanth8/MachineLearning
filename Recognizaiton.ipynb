{
 "cells": [
  {
   "cell_type": "code",
   "execution_count": 118,
   "metadata": {},
   "outputs": [],
   "source": [
    "import cv2\n",
    "import numpy as np\n",
    "import os "
   ]
  },
  {
   "cell_type": "code",
   "execution_count": 79,
   "metadata": {},
   "outputs": [],
   "source": [
    "face_casecade = cv2.CascadeClassifier('F:\\\\Prasanth\\\\Projects\\\\Data_Science\\\\Face_detection\\\\face_detection_modules\\\\haarcascades\\\\haarcascade_frontalface_default.xml')\n",
    "width = 500\n",
    "height = 700\n",
    "dim = (width,height)"
   ]
  },
  {
   "cell_type": "code",
   "execution_count": 113,
   "metadata": {},
   "outputs": [],
   "source": [
    "resized = cv2.imread('F:\\\\Prasanth\\\\Projects\\\\Data_Science\\\\Face_detection\\\\Photos\\\\seven.jpg',1)\n",
    "#resized = cv2.resize(image,dim,interpolation = cv2.INTER_AREA)\n",
    "gray = cv2.cvtColor(resized,cv2.COLOR_BGR2GRAY)\n",
    "faces= face_casecade.detectMultiScale(gray)"
   ]
  },
  {
   "cell_type": "code",
   "execution_count": 114,
   "metadata": {},
   "outputs": [],
   "source": [
    "i = 0\n",
    "roi_faces=[]\n",
    "for (x,y,w,h) in faces:\n",
    "    #cv2.rectangle(resized,(x,y),(x+w,y+h),(0,255,0),1)\n",
    "    resized[y:y+h,x:x+w] = cv2.blur(resized[y:y+h,x:x+w],(20,20))\n",
    "    roi_faces.append([x,y,w,h])\n",
    "    #roi_gray = gray[y:y+h,x:x+w]\n",
    "    #roi_faces.append([x,y,w,h])\n",
    "#resized[roi_faces[0][1]:roi_faces[0][1]+roi_faces[0][3],roi_faces[0][0]:roi_faces[0][0]+roi_faces[0][2]]=cv2.blur(resized[roi_faces[0][1]:roi_faces[0][1]+roi_faces[0][3],roi_faces[0][0]:roi_faces[0][0]+roi_faces[0][2]],(20,20))"
   ]
  },
  {
   "cell_type": "code",
   "execution_count": 115,
   "metadata": {},
   "outputs": [
    {
     "name": "stdout",
     "output_type": "stream",
     "text": [
      "[[90, 28, 44, 44]]\n"
     ]
    }
   ],
   "source": [
    "print(roi_faces)\n",
    "#cv2.imshow('Image',resized)\n",
    "#cv2.imshow('Gray',gray)\n",
    "for val in range(0,len(roi_faces)):\n",
    "    x=roi_faces[val][0]\n",
    "    y=roi_faces[val][1]\n",
    "    w=roi_faces[val][2]\n",
    "    h=roi_faces[val][3]\n",
    "   # if val == 2:\n",
    "    #resized[y:y+h,x:x+w] = cv2.blur(resized[y:y+h,x:x+w],(20,20))\n",
    "#        print(str(x)+str(y)+str(w)+str(h))\n",
    " #       print(val)\n",
    "    "
   ]
  },
  {
   "cell_type": "code",
   "execution_count": 117,
   "metadata": {},
   "outputs": [],
   "source": [
    "cv2.imshow('image',resized)\n",
    "k=cv2.waitKey(0) & 0xFF\n",
    "if( k == 27):\n",
    "    cv2.destroyAllWindows()"
   ]
  },
  {
   "cell_type": "code",
   "execution_count": 120,
   "metadata": {},
   "outputs": [
    {
     "name": "stdout",
     "output_type": "stream",
     "text": [
      "5919431-jack-sparrow-wallpapers.jpg\n",
      "5919442-jack-sparrow-wallpapers.jpg\n",
      "5919451-jack-sparrow-wallpapers.jpg\n",
      "5919461-jack-sparrow-wallpapers.jpg\n",
      "5919470-jack-sparrow-wallpapers.jpg\n",
      "5919476-jack-sparrow-wallpapers.jpg\n",
      "5919487-jack-sparrow-wallpapers.jpg\n",
      "5919504-jack-sparrow-wallpapers.jpg\n",
      "5919540-jack-sparrow-wallpapers.jpg\n",
      "5919555-jack-sparrow-wallpapers.jpg\n",
      "5919570-jack-sparrow-wallpapers.jpg\n",
      "5919579-jack-sparrow-wallpapers.jpg\n",
      "5919609-jack-sparrow-wallpapers.jpg\n",
      "eight.jpg\n",
      "eleven.jpg\n",
      "fifteen.jpg\n",
      "five.jpg\n",
      "four.jpg\n",
      "nine.jpg\n",
      "one.jpg\n",
      "seven.jpg\n",
      "six.jpg\n",
      "ten.jpg\n",
      "thirteen.jpg\n",
      "three.jpg\n",
      "tweleve.jpg\n",
      "two.jpg\n"
     ]
    }
   ],
   "source": [
    "for val in os.listdir('F:\\\\Prasanth\\\\Projects\\\\Data_Science\\\\Face_detection\\\\Photos'):\n",
    "    print(val)"
   ]
  }
 ],
 "metadata": {
  "kernelspec": {
   "display_name": "Python 3",
   "language": "python",
   "name": "python3"
  },
  "language_info": {
   "codemirror_mode": {
    "name": "ipython",
    "version": 3
   },
   "file_extension": ".py",
   "mimetype": "text/x-python",
   "name": "python",
   "nbconvert_exporter": "python",
   "pygments_lexer": "ipython3",
   "version": "3.7.5"
  }
 },
 "nbformat": 4,
 "nbformat_minor": 2
}
